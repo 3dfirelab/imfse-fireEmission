{
 "cells": [
  {
   "cell_type": "markdown",
   "id": "2f1e285a-c911-4fa3-9577-8b87af9e13e5",
   "metadata": {},
   "source": [
    "<img style=\"float: left;\" src=\"../images/logo.png\" width=\"400\"/>"
   ]
  },
  {
   "cell_type": "markdown",
   "id": "865d8057-2af8-40fe-a9e4-0110c9eb87e6",
   "metadata": {},
   "source": [
    "# INTRODUCTION TO BURN AREA FIRE PRODUCT\n"
   ]
  },
  {
   "cell_type": "markdown",
   "id": "811747c1-6109-464b-87ea-1a8d5d57ce6c",
   "metadata": {},
   "source": [
    "In this example we will calculate annual **CO emissions** for the 14 GFED basis regions over 1997-2014.\n",
    "The distributed version of GFED4 stopped in 2014, so that we could not look at el pont de Vilomara here. [GFED5](https://essd.copernicus.org/articles/15/5227/2023/essd-15-5227-2023-discussion.html) is also available but stopped in 2020.   \n",
    "\n",
    "The codes below is inspired from the official GFED website, see [here](https://www.geo.vu.nl/~gwerf/GFED/GFED4/ancill/code/get_GFED4s_CO_emissions.py) for original source."
   ]
  },
  {
   "cell_type": "markdown",
   "id": "5e20b8a4-e6e0-405f-836b-3afd52869d80",
   "metadata": {},
   "source": [
    "In GFED, the fire emission (e.g. E_CO for CO) calculation is based on the burnt area product (see review [here](https://doi.org/10.1016/j.rse.2019.02.013)) and follows:"
   ]
  },
  {
   "cell_type": "markdown",
   "id": "abd63da0-23f5-4860-ae95-29b82f9b5f78",
   "metadata": {},
   "source": [
    "E_CO = Σ(time,space) BA × Fuel loads × CC × EF_CO"
   ]
  },
  {
   "cell_type": "markdown",
   "id": "fe6e4665-f2e7-408c-8259-56cf8a801a7d",
   "metadata": {},
   "source": [
    "- BA: Burnt Area\n",
    "- Fuels loads\n",
    "- CC: Combustion Completeness  modeled as a function of:\n",
    "    - fuel type (leaf, stem, fine litter, coarse litter, peat)\n",
    "    - moisture conditions (dry fuels have higher CC)\n",
    "- EF: Emission Factor\n"
   ]
  },
  {
   "cell_type": "markdown",
   "id": "d835bb87-3d33-4b7f-abb4-f7b6fc0b18ba",
   "metadata": {},
   "source": [
    "After the version of GFED2, other dataset than the burnt area product are used on the side of the above equation, for example to account for emission from small fire."
   ]
  },
  {
   "cell_type": "markdown",
   "id": "6ce75a70-ee25-4b02-87b9-065921a18641",
   "metadata": {},
   "source": [
    "## 1. To go though the data"
   ]
  },
  {
   "cell_type": "code",
   "execution_count": null,
   "id": "db6191d7-f4de-4640-92d0-6a6b71008c9f",
   "metadata": {},
   "outputs": [],
   "source": [
    "### 1.1 access the data"
   ]
  },
  {
   "cell_type": "markdown",
   "id": "862210ef-2c02-40f3-b464-19f019823655",
   "metadata": {},
   "source": [
    "First you need to get the GFED4.1s data available in this notebook.\n",
    "- data is available directly [dropboxlink](https://www.dropbox.com/scl/fi/fgi1m3nnk436k9a0bhdpi/GFED4.1s.tar.gz?rlkey=vlaobhovce3v3lhr6uhfk4fd5&st=989ruqnp&dl=0) or in open access on [here](https://daac.ornl.gov/VEGETATION/guides/fire_emissions_v4_R1.html)\n",
    "- or if you are on andromeda the data are directly accessible here `/data/IMFSE/FBM_unit05/Emission/GFED4.1s`\n",
    "\n",
    "The you need to set the variable directory to point to where you have the data available."
   ]
  },
  {
   "cell_type": "code",
   "execution_count": null,
   "id": "df331aa6-1df1-4d36-b9bd-c11a432f282c",
   "metadata": {},
   "outputs": [],
   "source": [
    "directory    = '/data/IMFSE/FireBehaviourModelling/Emission/GFED4.1s/data/'\n",
    "directory_ds    = '/data/IMFSE/FireBehaviourModelling/Emission/GFED4.1s/data_zarr/'"
   ]
  },
  {
   "cell_type": "markdown",
   "id": "fb882cf5-3a7e-4919-a6fd-61d67914f131",
   "metadata": {},
   "source": [
    "In GFED4.1s biomass burning dry matter (DM) emissions are provided in `kg of DM/m2/month` in the yearly file `GFED4.1s_xxxx.hdf5`. This corresponds to the mass of burnt fuel."
   ]
  },
  {
   "cell_type": "markdown",
   "id": "6092b077-5fa7-41df-b4e2-7194541d25a3",
   "metadata": {},
   "source": [
    "### 1.2. import library and set global variables"
   ]
  },
  {
   "cell_type": "code",
   "execution_count": null,
   "id": "0bf3782e-7fe2-401e-8740-2de557ff442f",
   "metadata": {},
   "outputs": [],
   "source": [
    "# import library\n",
    "import numpy as np\n",
    "import pandas as pd\n",
    "import matplotlib.pyplot as plt\n",
    "import matplotlib as mpl\n",
    "import xarray as xr"
   ]
  },
  {
   "cell_type": "code",
   "execution_count": null,
   "id": "b395f147-2def-49fb-ba3c-efb13305cc7e",
   "metadata": {},
   "outputs": [],
   "source": [
    "#definition of variables\n",
    "months       = '01','02','03','04','05','06','07','08','09','10','11','12'\n",
    "sources      = 'SAVA','BORF','TEMF','DEFO','PEAT','AGRI'\n",
    "Regions=['BONA', 'TENA', 'CEAM', 'NHSA', 'SHSA', 'EURO', 'MIDE', 'NHAF' ,'SHAF', 'BOAS', 'TEAS', 'SEAS', 'EQAS', 'AUST', 'Global' ]\n",
    "#Boreal North America (BONA), \n",
    "#Temperate North America (TENA), \n",
    "#Central America (CEAM), \n",
    "#Northern Hemisphere South America (NHSA), \n",
    "#Southern Hemisphere South America (SHSA), \n",
    "#Europe (EURO), \n",
    "#Middle East (MIDE), \n",
    "#Northern Hemisphere Africa (NHAF), \n",
    "#Southern Hemisphere Africa (SHAF), \n",
    "#Boreal Asia (BOAS), \n",
    "#Central Asia (CEAS), \n",
    "#Southeast Asia (SEAS), \n",
    "#Equatorial Asia (EQAS) \n",
    "#Australia and New Zealand (AUST).\n",
    "    \n",
    "start_year = 1997\n",
    "end_year   = 2014"
   ]
  },
  {
   "cell_type": "markdown",
   "id": "ceaaf12f-cdab-4c9f-8415-037cafb4234b",
   "metadata": {},
   "source": [
    "### 1.3. Read in emission factors"
   ]
  },
  {
   "cell_type": "code",
   "execution_count": null,
   "id": "22b791ac-032b-4070-ad04-5a8d1475dde2",
   "metadata": {},
   "outputs": [],
   "source": [
    "species = [] # names of the different gas and aerosol species\n",
    "EFs     = np.zeros((41, 6)) # 41 species, 6 sources\n",
    "\n",
    "data_EF = pd.read_csv(directory+'/GFED4_Emission_Factors_Summary.csv', header=10)\n",
    "\n",
    "data_EF # to print Emssion fator EF are gien in g species per kg dry matter (DM), This info is in the header\n"
   ]
  },
  {
   "cell_type": "code",
   "execution_count": null,
   "id": "847bef7a-3e8e-4505-9c87-8127797253f9",
   "metadata": {},
   "outputs": [],
   "source": [
    "# we are interested in CO for this example (4th row, so index=3):\n",
    "\n",
    "EF_CO = np.array(data_EF.iloc[3])[1:]"
   ]
  },
  {
   "cell_type": "markdown",
   "id": "af9d61c6-b40a-4965-ad84-bbcc2b9f4f13",
   "metadata": {},
   "source": [
    "### 1.4. Make table with summed DM emissions for each region and year"
   ]
  },
  {
   "cell_type": "markdown",
   "id": "13cec645-a312-4c02-a367-27c537988a0a",
   "metadata": {},
   "source": [
    "The code below load the burnt dry mass computed per month from the burn area product.  \n",
    "It is available at global scale, monthly, and at 0.25 degree spatial resolution from mid-1995 through 2014.   \n",
    " \n",
    "The data were derived by combining 500-m **MODIS** burned area maps with active fire data from the Tropical Rainfall Measuring Mission (**TRMM**) Visible and Infrared Scanner (**VIRS**) and the Along-Track Scanning Radiometer (**ATSR**) family of sensors. For additional information, refer to [Giglio et al., 2013](https://doi.org/10.1002/jgrg.20042)."
   ]
  },
  {
   "cell_type": "code",
   "execution_count": null,
   "id": "0f13ef55-290d-4d90-922e-d4194463c88c",
   "metadata": {},
   "outputs": [],
   "source": [
    "def computeEmissionRegionYear(EF_XX):\n",
    "    XX_table = np.zeros((15, end_year - start_year + 1)) # region, year\n",
    "    years =[]\n",
    "\n",
    "    for year in range(start_year, end_year+1):\n",
    "        string = directory_ds+str(year)+'.zarr'\n",
    "        ds = xr.open_dataset(string,engine='zarr')\n",
    "                \n",
    "        print(year)\n",
    "        years.append(year)\n",
    "    \n",
    "        if year == start_year: # these are time invariable    \n",
    "            basis_regions = ds['basis_regions']\n",
    "            grid_area     = ds['grid_cell_area']\n",
    "\n",
    "        XX_emissions = np.zeros(grid_area.shape)\n",
    "        for month in range(12):\n",
    "            # read in DM emissions\n",
    "            #string = '/emissions/'+months[month]+'/DM'\n",
    "            DM_emissions = ds['emissions_DM'][month]\n",
    "            for source in range(6): # 6 source of fire emission are: SAVA,BORF,TEMF,DEFO,PEAT,AGRI\n",
    "                # read in the fractional contribution of each source\n",
    "                #string = '/emissions/'+months[month]+'/partitioning/DM_'+sources[source]\n",
    "                contribution = ds['emissions_DM_partitioned'][source,month]\n",
    "                # calculate XX emissions as the product of DM emissions (kg DM per \n",
    "                # m2 per month), the fraction the specific source contributes to \n",
    "                # this (unitless), and the emission factor (g XX per kg DM burned)\n",
    "                XX_emissions += DM_emissions * contribution * float(EF_XX[source])\n",
    "    \n",
    "    \n",
    "        # fill table with total values for the globe (row 15) or basisregion (1-14)\n",
    "        for region in range(15):\n",
    "            if region == 14:\n",
    "                mask = np.ones((720, 1440))\n",
    "            else:\n",
    "                mask = basis_regions == (region + 1)            \n",
    "    \n",
    "            XX_table[region, year-start_year] = np.sum(grid_area * mask * XX_emissions)\n",
    "                \n",
    "    # convert to Tg CO \n",
    "    XX_table = XX_table / 1E12\n",
    "    \n",
    "    #convert to dataframe\n",
    "    XX_df = pd.DataFrame(XX_table, index=Regions, columns=years)\n",
    "\n",
    "    return XX_df"
   ]
  },
  {
   "cell_type": "code",
   "execution_count": null,
   "id": "41f75028-c334-4a73-b2a1-c81cf8bbd926",
   "metadata": {},
   "outputs": [],
   "source": [
    "CO_df = computeEmissionRegionYear(EF_CO)"
   ]
  },
  {
   "cell_type": "code",
   "execution_count": null,
   "id": "84244cd7-af48-451b-8f4f-2573ebd92fdf",
   "metadata": {},
   "outputs": [],
   "source": [
    "#print result\n",
    "CO_df"
   ]
  },
  {
   "cell_type": "markdown",
   "id": "131f980b-d57a-40df-9f6c-6dd666fe0967",
   "metadata": {},
   "source": [
    "## 2. To go further"
   ]
  },
  {
   "cell_type": "markdown",
   "id": "4334bfb2-77e4-4b3d-82cc-0f990bdad10d",
   "metadata": {},
   "source": [
    "**task of this section >>** Can you create a new function to compute Burnt Area (BA) per year and region.   \n",
    "**Trick**: duplicate computeEmissionRegionYear() and replace `contribution` to get burnt area. "
   ]
  },
  {
   "cell_type": "markdown",
   "id": "9f47f65c-6a0f-4c2a-9921-7ed4cea98f42",
   "metadata": {},
   "source": [
    "To help you, below is an example of how you can get the burnt area for a particular month:"
   ]
  },
  {
   "cell_type": "code",
   "execution_count": null,
   "id": "6141ffb1-d712-4c7c-8d56-7f33037abe39",
   "metadata": {},
   "outputs": [],
   "source": [
    "year=2003\n",
    "string = directory_ds+str(year)+'.zarr'\n",
    "ds = xr.open_dataset(string, engine='zarr')"
   ]
  },
  {
   "cell_type": "code",
   "execution_count": null,
   "id": "2bad0aac-9400-4923-b282-02cae8efa62a",
   "metadata": {},
   "outputs": [],
   "source": [
    "ds"
   ]
  },
  {
   "cell_type": "code",
   "execution_count": null,
   "id": "690863f2-f958-444d-abc4-3b2b988c0217",
   "metadata": {},
   "outputs": [],
   "source": [
    "ba_masked=ds['burned_area_burned_fraction'].where(ds['burned_area_burned_fraction']!=0)"
   ]
  },
  {
   "cell_type": "code",
   "execution_count": null,
   "id": "0b1677ec-bb5b-4811-bcbe-7a46dbd490ae",
   "metadata": {},
   "outputs": [],
   "source": [
    "plt.figure(figsize=(8, 4))\n",
    "ba_masked.sel(month=7).plot(norm=mpl.colors.LogNorm(vmin=1.e-3,vmax=1))"
   ]
  },
  {
   "cell_type": "markdown",
   "id": "9c124ba2-4341-4d5b-9775-90c372f2d1bc",
   "metadata": {},
   "source": [
    "**question >>** can you plot the burnt area fraction for January of the same year? What do you see?"
   ]
  },
  {
   "cell_type": "code",
   "execution_count": null,
   "id": "5695c036-7760-4fe1-a792-09061a11715f",
   "metadata": {},
   "outputs": [],
   "source": [
    "plt.figure(figsize=(8, 4))\n",
    "ba_masked.sel(month=1).plot(norm=mpl.colors.LogNorm(vmin=1.e-3,vmax=1))"
   ]
  },
  {
   "cell_type": "markdown",
   "id": "8dedddd4-ef1a-4d4a-b1d3-ae8641dc1bc2",
   "metadata": {},
   "source": [
    "**question >>** can you plot the total burnt area fraction for January of the same year?  \n",
    "Which continent has the main burnt area?"
   ]
  },
  {
   "cell_type": "code",
   "execution_count": null,
   "id": "164b1630-80e5-406e-a048-966bb9783599",
   "metadata": {},
   "outputs": [],
   "source": [
    "plt.figure(figsize=(8, 4))\n",
    "ba_masked.sum(dim=\"month\").plot(norm=mpl.colors.LogNorm(vmin=1.e-3,vmax=1))"
   ]
  },
  {
   "cell_type": "markdown",
   "id": "67cec08f-62ca-4f9c-a60a-07144d12a64d",
   "metadata": {},
   "source": []
  },
  {
   "cell_type": "markdown",
   "id": "bad63776-d064-48ae-9ea4-b3306abf174d",
   "metadata": {},
   "source": [
    "**Answer to the task >>**"
   ]
  },
  {
   "cell_type": "code",
   "execution_count": null,
   "id": "2edd0354-7d4b-4b59-b0d3-d25ff3f3c89e",
   "metadata": {},
   "outputs": [],
   "source": [
    "#fucntion to get Burnt Area\n",
    "def computeBurntAreaYear():\n",
    "    \n",
    "    XX_table = np.zeros((15, end_year - start_year + 1)) # region, year\n",
    "    years =[]\n",
    "\n",
    "    for year in range(start_year, end_year+1):\n",
    "        string = directory_ds+str(year)+'.zarr'\n",
    "        ds = xr.open_dataset(string,engine='zarr')\n",
    "                \n",
    "        print(year)\n",
    "        years.append(year)\n",
    "    \n",
    "        if year == start_year: # these are time invariable    \n",
    "            basis_regions = ds['basis_regions']\n",
    "            grid_area     = ds['grid_cell_area']\n",
    "            \n",
    "        BAf = np.zeros((720, 1440))\n",
    "        for month in range(12):\n",
    "            # read in DM emissions\n",
    "            BAf += ds['burned_area_burned_fraction'][month] \n",
    "    \n",
    "        # fill table with total values for the globe (row 15) or basisregion (1-14)\n",
    "        for region in range(15):\n",
    "            if region == 14:\n",
    "                mask = np.ones((720, 1440))\n",
    "            else:\n",
    "                mask = basis_regions == (region + 1)            \n",
    "    \n",
    "            XX_table[region, year-start_year] = np.sum(grid_area * mask * BAf.where(mask)) * 1.e-6 # km2\n",
    "    \n",
    "    #convert to dataframe\n",
    "    XX_df = pd.DataFrame(XX_table, index=Regions, columns=years)\n",
    "\n",
    "    return XX_df"
   ]
  },
  {
   "cell_type": "code",
   "execution_count": null,
   "id": "8fdc7a5e-783b-40ee-ba3c-4748bb1002f3",
   "metadata": {},
   "outputs": [],
   "source": [
    "BA_df  =  computeBurntAreaYear()"
   ]
  },
  {
   "cell_type": "code",
   "execution_count": null,
   "id": "16f696f6-f7bb-4a23-a0b2-a3a4e3c97cec",
   "metadata": {},
   "outputs": [],
   "source": [
    "BA_df"
   ]
  },
  {
   "cell_type": "markdown",
   "id": "3ffeb841-dd5a-45af-aa62-1c3cc8b5e675",
   "metadata": {},
   "source": [
    "**Question>>:** Plot the correlation between of total BA and Emissions over the 12 years for CO and CO2.   \n",
    "Why Emission and BA are not linearly correlated?  \n",
    "Do you see relation between CO and CO2 emission? While both emission are computed with the same Dry matter times the gas emission factor, no linear relation seems to show? Can you simply show why?"
   ]
  },
  {
   "cell_type": "markdown",
   "id": "8b2909f8-ace2-416e-a171-a30bd455d654",
   "metadata": {},
   "source": [
    "**Answer>>:** "
   ]
  },
  {
   "cell_type": "code",
   "execution_count": null,
   "id": "27753190-dd8e-4c45-ba65-d6381f73a6d3",
   "metadata": {},
   "outputs": [],
   "source": [
    "#now compute CO2 emission\n",
    "EF_CO2 = np.array(data_EF.iloc[2])[1:]\n",
    "CO2_df = computeEmissionRegionYear(EF_CO2)"
   ]
  },
  {
   "cell_type": "code",
   "execution_count": null,
   "id": "1fb507ef-6d2c-4aba-a14d-879abd69c2c4",
   "metadata": {},
   "outputs": [],
   "source": [
    "#plot of the correlation\n",
    "\n",
    "ax=plt.subplot(111)\n",
    "ax.scatter(BA_df.sum(axis=1), CO_df.sum(axis=1), s=40, label='CO')\n",
    "ax.set_ylabel('total  CO emission - Tg')\n",
    "ax.set_xlabel('Total burn Aera (km2)')\n",
    "handles1, labels1 = ax.get_legend_handles_labels()\n",
    "\n",
    "ax=ax.twinx()\n",
    "colors = plt.get_cmap('tab10').colors\n",
    "ax.scatter(BA_df.sum(axis=1), CO2_df.sum(axis=1), s=10, c=colors[1], label='CO2')\n",
    "ax.set_ylabel('total CO2 emission - Tg')\n",
    "handles2, labels2 = ax.get_legend_handles_labels()\n",
    "handles = handles1 + handles2 \n",
    "labels = labels1 + labels2 \n",
    "plt.legend(handles=handles, labels=labels)"
   ]
  },
  {
   "cell_type": "code",
   "execution_count": null,
   "id": "e622e7f2-5986-4801-a95a-ad2c130e5c8e",
   "metadata": {},
   "outputs": [],
   "source": [
    "ax=plt.subplot(111)\n",
    "ax.scatter(CO2_df.sum(axis=1), CO_df.sum(axis=1), s=40, label='per area')\n",
    "ax.set_ylabel('total  CO emission - Tg')\n",
    "ax.set_xlabel('total CO2 emission - Tg')\n",
    "plt.legend()"
   ]
  },
  {
   "cell_type": "markdown",
   "id": "6c9f0a2d-ff78-4178-8ca0-243879e5193a",
   "metadata": {},
   "source": [
    "Emission factor are source dependent and they do not keep the same ratio between source due to different fire behavior. The sum over the source of DM(source) * EF(source) is therefore not linear. See ratio per sources of EF below."
   ]
  },
  {
   "cell_type": "code",
   "execution_count": null,
   "id": "9daf3297-0a28-435c-919a-dd66348d48a8",
   "metadata": {},
   "outputs": [],
   "source": [
    "data_EF.iloc[2][1:]/data_EF.iloc[3][1:]"
   ]
  },
  {
   "cell_type": "markdown",
   "id": "6408858e-e148-4893-8c41-df6f3172fc40",
   "metadata": {},
   "source": [
    "## 3. To deliver"
   ]
  },
  {
   "cell_type": "markdown",
   "id": "3f5dd27f-ab5a-41b4-a379-b56195014a40",
   "metadata": {},
   "source": [
    "1. on the 18 years, which region is the principal source of CO emitted from burning vegetation?\n",
    "2. Can you plot yearly evolution of CO emission for each Region?\n",
    "3. Can you compute CO2 Emission? Is the spatial distribution per area the same? What about the CO/CO2 ratio? What does this tell you.\n",
    "4. *Extra question*: Using the mask computation example from the python lecture (see [here](https://github.com/3dfirelab/python-intro-course/blob/master/05c-GIS-vector2raster.ipynb)) can you calculate total carbon emission for your country over the 18 years.? "
   ]
  },
  {
   "cell_type": "markdown",
   "id": "37fe1f4e-c391-4f66-a6fd-085e27a85646",
   "metadata": {},
   "source": [
    "**Answer to deliverable:>>**"
   ]
  },
  {
   "cell_type": "code",
   "execution_count": null,
   "id": "0db3aef5-1655-4975-acbe-cae328d4f98f",
   "metadata": {},
   "outputs": [],
   "source": []
  }
 ],
 "metadata": {
  "kernelspec": {
   "display_name": "Python (imfse)",
   "language": "python",
   "name": "imfse"
  },
  "language_info": {
   "codemirror_mode": {
    "name": "ipython",
    "version": 3
   },
   "file_extension": ".py",
   "mimetype": "text/x-python",
   "name": "python",
   "nbconvert_exporter": "python",
   "pygments_lexer": "ipython3",
   "version": "3.11.2"
  }
 },
 "nbformat": 4,
 "nbformat_minor": 5
}
