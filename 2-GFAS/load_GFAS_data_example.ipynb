{
 "cells": [
  {
   "cell_type": "markdown",
   "id": "2f1e285a-c911-4fa3-9577-8b87af9e13e5",
   "metadata": {},
   "source": [
    "<img style=\"float: left;\" src=\"../images/logo.png\" width=\"400\"/>"
   ]
  },
  {
   "cell_type": "markdown",
   "id": "865d8057-2af8-40fe-a9e4-0110c9eb87e6",
   "metadata": {},
   "source": [
    "# INTRODUCTION TO ACTVICE FIRE PRODUCT  \n",
    "\n",
    "this code aims at showing you where to find GFAS data and also have some understanding of the data used in the calculation."
   ]
  },
  {
   "cell_type": "markdown",
   "id": "c189ea7b-42fe-4446-b54a-d3703be8f447",
   "metadata": {},
   "source": [
    "As an example we will focus here on CO emissions. \n",
    "As a recall the fire emission (E_CO for CO) calculation based on the FRP (as done in GFAS) reads like:"
   ]
  },
  {
   "cell_type": "markdown",
   "id": "b0deed5f-fcec-48a4-aaa8-8ceb563d78a8",
   "metadata": {},
   "source": [
    "```\n",
    "E_CO = DM * EF_CO                               (Equation 1)\n",
    "```"
   ]
  },
  {
   "cell_type": "markdown",
   "id": "ff00fce7-e468-4a8f-bb78-60e89099365e",
   "metadata": {},
   "source": [
    "where the burning dry matter (DM) is"
   ]
  },
  {
   "cell_type": "markdown",
   "id": "32ca9627-1492-4884-83f1-fe988da8cfd6",
   "metadata": {},
   "source": [
    "```\n",
    "DM = Converstion_factor * FRE                    (Equation 2)\n",
    "```"
   ]
  },
  {
   "cell_type": "markdown",
   "id": "811747c1-6109-464b-87ea-1a8d5d57ce6c",
   "metadata": {},
   "source": [
    "\n",
    "and FRE (Fire Radiative Power) is the time integration of Fire Radiative Power (FRP). See [this Copernicus page](https://www.copernicus.eu/en/access-data/copernicus-services-catalogue/satellite-fire-radiative-power) for a presentation of FRE and FRP satellite products. \n",
    "\n",
    "Refer to [Kaiser et al 2012](https://bg.copernicus.org/articles/9/527/2012/) for GFAS algoritgm. \n",
    "\n",
    "To run this notebook you will need to get data that  \n",
    "- are available [here]() **TO ADD**\n",
    "- or if you are on andromeda  you can set you directory data to `/data/IMFSE/FBM_unit05/Emission/GFAS`\n"
   ]
  },
  {
   "cell_type": "markdown",
   "id": "fb882cf5-3a7e-4919-a6fd-61d67914f131",
   "metadata": {},
   "source": [
    "we go through the different terms of the above equation in what follows"
   ]
  },
  {
   "cell_type": "markdown",
   "id": "b8c459c7-d4d1-46ae-9303-b2d1a254036a",
   "metadata": {},
   "source": [
    "## 1. To go through the data"
   ]
  },
  {
   "cell_type": "markdown",
   "id": "2e479343-fdad-4c5f-99a8-e62325bda545",
   "metadata": {},
   "source": [
    "In this section we are going to through the terms of equation 1 and 2 and show you how to compute them."
   ]
  },
  {
   "cell_type": "markdown",
   "id": "c08119eb-c711-4110-9153-ff37ddfd42e0",
   "metadata": {},
   "source": [
    "### 1.1. import library and set variables"
   ]
  },
  {
   "cell_type": "code",
   "execution_count": null,
   "id": "553bcc1d-f8f4-45e5-8c00-5f8a98750e1f",
   "metadata": {},
   "outputs": [],
   "source": [
    "import numpy as np\n",
    "import pandas as pd\n",
    "import matplotlib.pyplot as plt\n",
    "import matplotlib as mpl\n",
    "#from netCDF4 import Dataset\n",
    "import rioxarray\n",
    "import geopandas as gpd\n",
    "import scipy\n",
    "import shapely\n",
    "import datetime\n",
    "from scipy.stats import gaussian_kde\n",
    "from haversine import haversine, Unit\n",
    "import xarray as xr\n",
    "import importlib\n",
    "from rasterio.transform import from_origin\n",
    "from rasterio.features import geometry_mask\n",
    "%matplotlib inline\n",
    "\n",
    "#homebrewed \n",
    "import haversine2Da "
   ]
  },
  {
   "cell_type": "code",
   "execution_count": null,
   "id": "df331aa6-1df1-4d36-b9bd-c11a432f282c",
   "metadata": {},
   "outputs": [],
   "source": [
    "directory    = '/data/IMFSE/FireBehaviourModelling/Emission/GFAS/'"
   ]
  },
  {
   "cell_type": "markdown",
   "id": "037559cd-ab06-43df-b5e5-225b226ad951",
   "metadata": {},
   "source": [
    "### 1.2 Read in Dominant Land cover and Converstion Factor"
   ]
  },
  {
   "cell_type": "markdown",
   "id": "2d47fd07-60ba-473b-bee9-db5af3768439",
   "metadata": {},
   "source": [
    "The conversion factor are static and dependent of the land cover class."
   ]
  },
  {
   "cell_type": "code",
   "execution_count": null,
   "id": "05217ded-216c-4dec-b091-4d773ebb660e",
   "metadata": {},
   "outputs": [],
   "source": [
    "landCover = xr.open_dataset(directory+'GFED3_dominantBurningLC_version11112010_GAPFILLED.r720x360JUEL_EXTPEATOS.nc')\n",
    "landCover = landCover.rename({\"lat\": \"latitude\"})\n",
    "landCover = landCover.rename({\"lon\": \"longitude\"})\n",
    "landCover"
   ]
  },
  {
   "cell_type": "code",
   "execution_count": null,
   "id": "b87a9183-07b7-499a-8dc5-b82ddad2048d",
   "metadata": {},
   "outputs": [],
   "source": [
    "burninLC = landCover['dominantBurningLC'].isel(time=0)\n",
    "burninLC"
   ]
  },
  {
   "cell_type": "code",
   "execution_count": null,
   "id": "4c26d90c-b2c3-40d8-8087-1d0359ad85de",
   "metadata": {},
   "outputs": [],
   "source": [
    "plt.figure(figsize=(8,4))\n",
    "cmap = plt.get_cmap('Set2', np.unique(burninLC).shape[0]-1) # remove 0\n",
    "c=burninLC.where(burninLC!=0).plot(cmap=cmap,vmin=0.5, vmax=8.5, cbar_kwargs={'ticks':range(9)} )\n",
    "plt.title('dominant Burning Land Cover')\n",
    "print( 'shape is', burninLC.shape)\n",
    "#plt.colorbar(c, ticks=range(9),)"
   ]
  },
  {
   "cell_type": "markdown",
   "id": "ec207e2f-fe97-4944-ba85-8950dc026274",
   "metadata": {},
   "source": [
    "conversion factor and area named are in `conversionFactor.txt`"
   ]
  },
  {
   "cell_type": "code",
   "execution_count": null,
   "id": "a81f6b16-af85-4629-99ff-5b887ba63826",
   "metadata": {},
   "outputs": [],
   "source": [
    "LCidx = pd.read_csv(directory+'conversionFactor.txt')\n",
    "LCidx.columns = LCidx.columns.str.strip()\n",
    "LCidx.index += 1\n",
    "LCidx"
   ]
  },
  {
   "cell_type": "markdown",
   "id": "a351b783-b2e0-4c4a-bd3e-5195539a9b6e",
   "metadata": {},
   "source": [
    "Therefore, form table above, if you know you land covcer form the dominant land cover map, then you know the conversion factor."
   ]
  },
  {
   "cell_type": "markdown",
   "id": "ceaaf12f-cdab-4c9f-8415-037cafb4234b",
   "metadata": {},
   "source": [
    "### 1.3 Read in Emission Factors"
   ]
  },
  {
   "cell_type": "code",
   "execution_count": null,
   "id": "22b791ac-032b-4070-ad04-5a8d1475dde2",
   "metadata": {},
   "outputs": [],
   "source": [
    "data_EF = pd.read_csv(directory+'/EF_kaiser2012.csv', header=0).iloc[:, :-1] #remove last column\n",
    "data_EF"
   ]
  },
  {
   "cell_type": "markdown",
   "id": "ab41555e-4ed0-4fac-9a0a-8f1a18a0d040",
   "metadata": {},
   "source": [
    "### 1.4 Read in FRP and FRE"
   ]
  },
  {
   "cell_type": "markdown",
   "id": "ed92e669-03df-4543-80bc-b5221df37301",
   "metadata": {},
   "source": [
    "This is the most demanding step of the computation.    \n",
    "FRP is coming from satellite observation. In the case of GFAS, it is still based on the MODIS sensor. A schematic view of the data processing to go from satellite observation to FRP and FRE needed in GFAS equation is listed below:\n",
    "- satellite detects a fire and tag a pixel of the image sensor as a hot spot. It corresponds to a vector data (a point) with associated location (latitude,longitude), time (the time of the satellite aquisition) and FRP (MW) emitted by the pixel. Large fire can create multiple hot-spots (or cluster) at the same time (see [here](https://www.earthdata.nasa.gov/faq/firms-faq#ed-modis-fire-onground) for a short description). Hot spots are used in fire attack to monitor fire activity in Near Real Time (NRT) using product such like [FIRMS](https://firms.modaps.eosdis.nasa.gov/map/#d:24hrs;@0.0,0.0,3.0z)\n",
    "- you can use the archive of FIRMS to download hot-spots observation from MODIS, VIIRS and LandSat sensors. In `GFAS/MODID-HotSpot/fire_archive_M-C61_492244.shp` we uploaded MODIS hot-spots for the whole world for the time period `01-05-2023` to `30-11-2023`.\n",
    "- To use Emission calculation in atmospheric model, those hot spot information (vector data) needs to be gridded (transformation to raster). So that the hot-spots information need to be spatially and temporally integrated to create map of timely FRP (kW/day/m2). The spatial integration is relatively straightforward, while the time integration requires to make some assumption on the gaps observation that can exist. For example with MODIS sensor, hotspot on the same fire comes only with 2 overpasses per day and 2 overpasses per night thanks to the two polar orbital satellite Aqua and Terra that operate the MODIS sensor since 2003. In GFAS the time integration is bases on simple data assimilation scheme that assume fire persistence between observation ([Kaiser et al 2012](https://bg.copernicus.org/articles/9/527/2012/)). GFAS data are available [here](https://ads.atmosphere.copernicus.eu/cdsapp#!/dataset/cams-global-fire-emissions-gfas?tab=overview).\n",
    "- Then to get total emission you sum FRP to FRE and use it in equation 1 and 2, or you can also use FRP in equation 1 and 2 to get emission flux."
   ]
  },
  {
   "cell_type": "markdown",
   "id": "0a2650f1-e230-4918-abc5-496fd5023747",
   "metadata": {},
   "source": [
    "Let first looks at hot-spots data in `GFAS\\MODID-HotSpot/fire_archive_M-C61_492244.shp`  \n",
    "Note that the command below can take some time to run as it needs to load a large amount of points. "
   ]
  },
  {
   "cell_type": "code",
   "execution_count": null,
   "id": "4e6df657-dae3-4ee4-ba8f-780940920285",
   "metadata": {},
   "outputs": [],
   "source": [
    "#hotspots = gpd.read_file(directory+'MODID-HotSpot/fire_archive_M-C61_492244.shp')\n",
    "hotspots = gpd.read_file(directory+'MODIS-HotSpot/fire_archive_M-C61_525243.shp')"
   ]
  },
  {
   "cell_type": "code",
   "execution_count": null,
   "id": "1bf87043-1459-4a44-a1e7-83667d078d90",
   "metadata": {},
   "outputs": [],
   "source": [
    "print( '{:d} hostops found'.format(len(hotspots)))\n",
    "print('show below 3 first hot-spots')\n",
    "hotspots[:3]"
   ]
  },
  {
   "cell_type": "code",
   "execution_count": null,
   "id": "8dbd7829-9f3d-405d-81d2-c91aea971bee",
   "metadata": {},
   "outputs": [],
   "source": [
    "ax = plt.subplot(111)\n",
    "hotspots.plot(markersize=0.1, alpha=.5, column='FRP', legend=True, cmap=mpl.cm.Reds, vmax=100, legend_kwds={\n",
    "        \"location\":\"bottom\",\"label\":\"FRM(MW)\"},ax=ax)\n",
    "ax.set_xlabel('longitude')\n",
    "ax.set_ylabel('latitude')\n",
    "plt.title('hot spots 01-05 to 30-11-2023, colored with FRP(MW)')"
   ]
  },
  {
   "cell_type": "markdown",
   "id": "c3c5c05c-934f-4946-8254-271c27a09e42",
   "metadata": {},
   "source": [
    "The global impact of fire is quite straightforward. We do not need to plot the map to see the border contour.  \n",
    "\n",
    "Let see now the gridded version provided by GFAS for the same period. As with FIRMS, data are on open access and can be retrieved from the Copernicus data server [here](\n",
    "https://ads.atmosphere.copernicus.eu/datasets/cams-global-fire-emissions-gfas?tab=overview).\n",
    "\n",
    "The daily FRP at 0.5 degree resolution is available for the same time period as above in the file `GFAS/GFAS-FRP-05to11-2023.nc`"
   ]
  },
  {
   "cell_type": "code",
   "execution_count": null,
   "id": "28c0b76b-8baa-426b-9b00-cf92edece93b",
   "metadata": {},
   "outputs": [],
   "source": [
    "frpgfas = xr.open_dataset(directory+'GFAS-FRP-2022-04_2022-09_05degree.nc')\n",
    "frpgfas"
   ]
  },
  {
   "cell_type": "markdown",
   "id": "b84d6f64-b88b-44d3-bc29-07ca1316c5c4",
   "metadata": {},
   "source": [
    "you can see form the above print, that we have only one variable in this file: `frpfire`. If you click in the page icon at the end of the frpfire line, then you will see some info on the variable as its unit that is in W/m2."
   ]
  },
  {
   "cell_type": "code",
   "execution_count": null,
   "id": "444109fb-f76d-470a-b7ed-f6bd4ca974fc",
   "metadata": {
    "editable": true,
    "slideshow": {
     "slide_type": ""
    },
    "tags": []
   },
   "outputs": [],
   "source": [
    "#now to compute the sum of frpfire over the time period, therefore the FRE\n",
    "fre = frpgfas['frpfire'].sum(dim='time').rename('fre') * 3600*24 # Fire Radiative Energy (J)/m2\n",
    "fre.attrs['units'] = 'J/m2'\n",
    "fre.attrs['timerange'] = [  pd.Timestamp(frpgfas['frpfire'].time[0].values),  pd.Timestamp(frpgfas['frpfire'].time[-1].values)]"
   ]
  },
  {
   "cell_type": "code",
   "execution_count": null,
   "id": "d27241d6-cf8b-4a2a-94ff-afe047f83ad3",
   "metadata": {},
   "outputs": [],
   "source": [
    "fre.plot()"
   ]
  },
  {
   "cell_type": "markdown",
   "id": "0573e06f-b248-4552-8fa9-2c0d70fa2823",
   "metadata": {},
   "source": [
    "The default ploting of FRE is not pertinent. We are going to apply a mask to mask out ocean using the dominant burning land cover map from above. However you can see from the info of the data array that`burninLC`and `fre` do not share the exact same coordinate. \n",
    "Therefore we are going first to interpolate `burninLC` on the same resolution than `fre` using a simple nearest interpolation (see `order=0` below)."
   ]
  },
  {
   "cell_type": "code",
   "execution_count": null,
   "id": "0610eeb0-6b62-45f4-a310-72b96896a795",
   "metadata": {},
   "outputs": [],
   "source": [
    "#burninLC is overrwritten below\n",
    "burninLC = burninLC.interp(longitude=fre['longitude'], latitude=fre['latitude'], method='nearest')"
   ]
  },
  {
   "cell_type": "code",
   "execution_count": null,
   "id": "a746eb27-6cc0-409f-bd4a-4f9d86854075",
   "metadata": {},
   "outputs": [],
   "source": [
    "plt.figure(figsize=(8,4))\n",
    "fre.where(burninLC!=0).plot(norm=mpl.colors.LogNorm(vmin=1.e1,vmax=1e6),cmap='viridis')\n",
    "plt.title(f\"FRE over the time period  \\n {fre.timerange[0]:%Y-%m-%d} to {fre.timerange[-1]:%Y-%m-%d} (J/m2)\")\n"
   ]
  },
  {
   "cell_type": "markdown",
   "id": "18e17acc-fb2f-4939-a3e4-ee706cd37a5e",
   "metadata": {},
   "source": [
    "this is better but we can still improve it."
   ]
  },
  {
   "cell_type": "code",
   "execution_count": null,
   "id": "b0cc4ef0-f3cb-47f2-97a6-0bbcc158fd25",
   "metadata": {},
   "outputs": [],
   "source": [
    "def plot_fre(fre,burninLC, ax=None, colorbarOrientation='vertical'):\n",
    "    if ax is None:\n",
    "        plt.figure(figsize=(8,4))\n",
    "        ax = plt.subplot(111)\n",
    "    \n",
    "    c = ax.pcolor(fre['longitude'][:], fre['latitude'][:],\n",
    "                      fre.where(burninLC.values!=0).values, \n",
    "                      norm=mpl.colors.LogNorm(vmin=1.e1,vmax=1e6) )\n",
    "    ax.set_xlabel('longitude')\n",
    "    ax.set_ylabel('latitude') \n",
    "    c.set_array(fre.where(burninLC.values!=0).values) # to avoid a futureWarning\n",
    "    cbar = plt.colorbar(c,orientation=colorbarOrientation, label='J/m2') \n",
    "    ax.set_title(f\"FRE over the time period  \\n {fre.timerange[0]:%Y-%m-%d} to {fre.timerange[-1]:%Y-%m-%d} (J/m2)\")\n",
    "plot_fre(fre,burninLC)"
   ]
  },
  {
   "cell_type": "markdown",
   "id": "e32d13c2-1a92-40ea-b60f-5abf8f6683f3",
   "metadata": {},
   "source": [
    "The data in the two plots are the same, what change is the way the `plot` function from `dataArray` and `pcolor` from `matplotlib` are dealing with interpolation rendering. I used this example to show that using `matplotlib` function is slightly more powerful because more tunable. So if `dataArray.plot` is good for a first glance at your data, think to use `matplotlib.pcolor` for better rendering. i set it as a function to be able to reuse it later."
   ]
  },
  {
   "cell_type": "markdown",
   "id": "131f980b-d57a-40df-9f6c-6dd666fe0967",
   "metadata": {},
   "source": [
    "## 2. To go further"
   ]
  },
  {
   "cell_type": "markdown",
   "id": "4334bfb2-77e4-4b3d-82cc-0f990bdad10d",
   "metadata": {},
   "source": [
    "**Question>>** Are the hot-spots FRP and the gridded FRE maps showing the same spatial pattern?"
   ]
  },
  {
   "cell_type": "markdown",
   "id": "22313ccf-c0c9-46bb-af42-f35ff0048c33",
   "metadata": {},
   "source": [
    "**Answer>>**: No, see for example Africa between 0 an -10 latittude. The FRE is large while FRP hot-spots are higher further south or north to this same area. The reaseon is that FRE is the time integration of FRP, so that plotting FRP points does not give the same results as FRE. The frequence of fire matters. This particularly true in this savanna region of Africa."
   ]
  },
  {
   "cell_type": "markdown",
   "id": "410505b9-4c62-4fbc-afb4-ba4c6de6ddc6",
   "metadata": {},
   "source": [
    "### 2.1 select subset area for analysis"
   ]
  },
  {
   "cell_type": "markdown",
   "id": "8ada9622-a216-4773-83e1-8e3793f2d1df",
   "metadata": {},
   "source": [
    "Here we are going to plot a zoom over west Europe with side by side the hot-spots and the gridded FRE for the month of july 2022, before looking at a possible correlation between fire number density end FRE.  \n",
    "For this spatial subest (europe), we are going to use the 0.1 degree resolution data of `GFAS-FRP-2022-04_2022-09.nc`."
   ]
  },
  {
   "cell_type": "code",
   "execution_count": null,
   "id": "6495575a-f797-4a9c-abe5-92a3d8183e4b",
   "metadata": {},
   "outputs": [],
   "source": [
    "# Create a bounding box polygon\n",
    "bbox = shapely.geometry.box(-10, 35, 40, 70) # Western Europe"
   ]
  },
  {
   "cell_type": "code",
   "execution_count": null,
   "id": "c46201c3-e942-4428-b19c-02756860284d",
   "metadata": {},
   "outputs": [],
   "source": [
    "#For the hot spot:\n",
    "#############\n",
    "\n",
    "# Clip the GeoDataFrame to the bounding box\n",
    "clipped_hotspots = hotspots.clip(bbox)\n",
    "\n",
    "#select time\n",
    "clip_hs_july = clipped_hotspots[(clipped_hotspots['ACQ_DATE']>datetime.datetime(2022,7,1)) &\n",
    "                                (clipped_hotspots['ACQ_DATE']<datetime.datetime(2022,8,1))]"
   ]
  },
  {
   "cell_type": "code",
   "execution_count": null,
   "id": "18a9c40f-3483-4d21-abf7-175aa44fe4e8",
   "metadata": {},
   "outputs": [],
   "source": [
    "#For the FRE:\n",
    "#############\n",
    "gfas = xr.open_dataset(directory+'GFAS-FRP-2022-04_2022-09.nc')\n",
    "gfas = gfas.rename({\"valid_time\": \"time\"})\n",
    "\n",
    "frpgfas=gfas.frpfire\n",
    "\n",
    "#spatial clip \n",
    "#we need to shift the whole domain by 180 degre to move the area of interest in the middle for easier extraction.\n",
    "frpgfas_rolled = frpgfas.roll(longitude=frpgfas.longitude.shape[0] // 2, roll_coords=True)\n",
    "frpgfas_rolled.coords['longitude'] = ((frpgfas_rolled.coords['longitude'] + 180) % 360) - 180\n",
    "frp_eu =frpgfas_rolled.sel(latitude=slice(bbox.bounds[3],bbox.bounds[1]), longitude=slice(bbox.bounds[0],bbox.bounds[2]) )\n",
    "frpgfas = None # to free memory\n",
    "gfas = None    # to free memory\n",
    "\n",
    "timejulybeg = datetime.datetime(2022,7,1)\n",
    "timejulyend = datetime.datetime(2022,8,1)\n",
    "frp_eu_july = frp_eu.sel(time=slice(timejulybeg,timejulyend))\n",
    "\n",
    "frp_eu = None\n"
   ]
  },
  {
   "cell_type": "code",
   "execution_count": null,
   "id": "429c667f-2d75-4c9f-b584-aa0a9350ac6f",
   "metadata": {},
   "outputs": [],
   "source": [
    "#compute fre for july. this is the time integration\n",
    "fre_eu_july = frp_eu_july.sum(dim='time').rename('fre july') * 3600*24 # Fire Radiative Energy (J)/m2\n",
    "fre_eu_july.attrs['units'] = 'J/m2'\n",
    "fre_eu_july.attrs['timerange'] = [  pd.Timestamp(frp_eu_july.time[0].values),  pd.Timestamp(frp_eu_july.time[-1].values)]"
   ]
  },
  {
   "cell_type": "code",
   "execution_count": null,
   "id": "8d0e26ea-1b30-4e57-b135-4dd4b13f2dc7",
   "metadata": {},
   "outputs": [],
   "source": [
    "#load burning LC that was rolled up to match frpgfas_rolled\n",
    "burninLC_hd_rolled = xr.open_dataarray(directory+'GFED3_dominantBurningLC_version11112010_GAPFILLED.r3600x1800JUEL_EXTPEATOS_rolled_rp.nc')\n",
    "burninLC_hd_eu =burninLC_hd_rolled.sel(latitude=slice(bbox.bounds[3],bbox.bounds[1]), longitude=slice(bbox.bounds[0],bbox.bounds[2]) )\n"
   ]
  },
  {
   "cell_type": "code",
   "execution_count": null,
   "id": "cc2fa5fa-162f-4031-a54a-8bd5fc32875d",
   "metadata": {},
   "outputs": [],
   "source": [
    "#plot side by side:\n",
    "##################\n",
    "\n",
    "ax = plt.subplot(121)\n",
    "clip_hs_july.plot(markersize=0.5, alpha=.8, column='FRP', legend=True, cmap=mpl.cm.Reds, vmax=100, legend_kwds={\n",
    "        \"location\":\"bottom\",},ax=ax)\n",
    "ax.set_xlabel('longitude')\n",
    "ax.set_ylabel('latitude')\n",
    "plt.title('hot spots july, \\n colored with FRP(MW)')\n",
    "\n",
    "ax = plt.subplot(122)\n",
    "plot_fre(fre_eu_july,burninLC_hd_eu, ax=ax,colorbarOrientation='horizontal')\n",
    "\n"
   ]
  },
  {
   "cell_type": "markdown",
   "id": "9609977b-1073-4c92-bffc-0a4068664929",
   "metadata": {},
   "source": [
    "**Question>>** show if there is any correlation between the number of fires and FRE? How does this help to answer the first question."
   ]
  },
  {
   "cell_type": "markdown",
   "id": "d8d2ca4c-3b39-4122-bd93-2ef8a01ff9ce",
   "metadata": {},
   "source": [
    "**Answer>>**:"
   ]
  },
  {
   "cell_type": "code",
   "execution_count": null,
   "id": "480ea1b0-e4ea-4db6-acbd-7445751c2303",
   "metadata": {},
   "outputs": [],
   "source": [
    "gdf = clip_hs_july\n",
    "coords = np.vstack([gdf.geometry.x, gdf.geometry.y])\n",
    "\n",
    "# Perform Gaussian KDE on the coordinates\n",
    "kde = gaussian_kde(coords)\n",
    "\n",
    "# Create a grid over the area based on the bounding box of the points\n",
    "x, y = np.meshgrid(fre_eu_july.longitude, fre_eu_july.latitude)\n",
    "grid_coords = np.vstack([x.ravel(), y.ravel()])\n",
    "\n",
    "# Evaluate the KDE on the grid points to get density values\n",
    "z = kde(grid_coords).reshape((fre_eu_july.shape[0],fre_eu_july.shape[1]))"
   ]
  },
  {
   "cell_type": "code",
   "execution_count": null,
   "id": "07e415ce-258e-4e1b-9b3e-6ce426c197ba",
   "metadata": {},
   "outputs": [],
   "source": [
    "ax = plt.subplot(121)\n",
    "im = ax.pcolor(fre_eu_july.longitude,fre_eu_july.latitude,z)\n",
    "clip_hs_july.plot(markersize=0.5, alpha=.2, color='r',ax=ax)\n",
    "ax.set_title('density of hot-spot,\\n in points per square degree')\n",
    "plt.colorbar(im,orientation='horizontal')\n",
    "\n",
    "ax = plt.subplot(122)\n",
    "idx_ = np.where(fre_eu_july.values>0)\n",
    "ax.scatter(z[idx_], fre_eu_july.values[idx_], s=2, c='k', alpha=0.6)\n",
    "ax.set_xlabel('hot-spot density')\n",
    "ax.set_ylabel('FRE (J/m2) - july 2022')\n"
   ]
  },
  {
   "cell_type": "markdown",
   "id": "a99aef0b-dfc3-4a22-8268-f3db754cf742",
   "metadata": {},
   "source": [
    "The number of hot-spots does not correlate with the FRE. In other words, the number of fire does not follows the emission.This is cause by the variability of the FRP intensity that depends of fire behavior which is dependent of the burning landcover type and the season. "
   ]
  },
  {
   "cell_type": "markdown",
   "id": "7dff8b24-6a79-4918-91c2-8c7e4a8ebce5",
   "metadata": {},
   "source": [
    "### 2.2 Compute emission from one event"
   ]
  },
  {
   "cell_type": "markdown",
   "id": "1bf71d8e-3dd1-474f-aec5-1842acb52d2a",
   "metadata": {},
   "source": [
    "The fire of el pont de Vilomara took place at the location lat,lon = 41.702, 1.873 on the 17th of July 2022. Below we estimate the FRE for this fire and estimate the emission of CO2."
   ]
  },
  {
   "cell_type": "code",
   "execution_count": null,
   "id": "2641abc2-455d-435d-b182-9efad4540096",
   "metadata": {},
   "outputs": [],
   "source": [
    "lat_pdv = 41.702\n",
    "lon_pdv = 1.873\n",
    "timejulybeg = datetime.datetime(2022,7,16)\n",
    "timejulyend = datetime.datetime(2022,7,20)\n",
    "bbox_cat = shapely.geometry.box(0, 38, 5 , 45) # cat\n",
    "\n",
    "gfas = xr.open_dataset(directory+'GFAS-FRP-2022-04_2022-09.nc') # the 0.1 degree data\n",
    "gfas = gfas.rename({\"valid_time\": \"time\"})\n",
    "gfas['time'] = gfas.time - pd.Timedelta(days=1) # to have it back to start of the time period\n",
    "frpgfas=gfas.frpfire\n",
    "\n",
    "frp_pdV = frpgfas.sel(time=slice(timejulybeg,timejulyend))\n",
    "frp_pdV = frp_pdV.sel(latitude=slice(bbox_cat.bounds[3],bbox_cat.bounds[1]), longitude=slice(bbox_cat.bounds[0],bbox_cat.bounds[2]) )\n",
    "\n",
    "fre_pdV = frp_pdV.rename('fre pdV') * 24*3600 # daily Fire Radiative Energy (J)/m2 per day\n",
    "fre_pdV.attrs['units'] = 'J/m2 per day'\n",
    "fre_pdV.attrs['timerange'] = [  pd.Timestamp(frp_pdV.time[0].values),  pd.Timestamp(frp_pdV.time[-1].values)]\n",
    " \n",
    "fre_pdV_1px = fre_pdV.sel(longitude=lon_pdv, latitude=lat_pdv, method='nearest') \n",
    "#this is the daily FRE at the pixel nearest to (lon_pdv,lat_pdv)\n",
    "\n",
    "#get also the i and j location of our point of interest\n",
    "i_lon = np.where(fre_pdV.coords['longitude'] == fre_pdV_1px.longitude)\n",
    "j_lat = np.where(fre_pdV.coords['latitude'] == fre_pdV_1px.latitude)\n",
    "\n",
    "frpgfas = None   # free memory\n",
    "print( 'working with array that are', frp_pdV.shape)"
   ]
  },
  {
   "cell_type": "code",
   "execution_count": null,
   "id": "0e770bb6-2cbc-40cc-8c4c-05d45e5b75c5",
   "metadata": {},
   "outputs": [],
   "source": [
    "#load burning LC that was rolled up to match frpgfas_rolled\n",
    "burninLC_hd =  burninLC.interp(longitude=fre_pdV['longitude'], latitude=fre_pdV['latitude'], method='nearest')\n",
    "burninLC_hd_pdV =burninLC_hd.sel(latitude=slice(bbox_cat.bounds[3],bbox_cat.bounds[1]), longitude=slice(bbox_cat.bounds[0],bbox_cat.bounds[2]) )\n",
    "burninLC_hd_pdV = burninLC_hd_pdV.interp(longitude=fre_pdV.longitude, latitude=fre_pdV.latitude, method='nearest')\n"
   ]
  },
  {
   "cell_type": "code",
   "execution_count": null,
   "id": "65e7d770-f756-4d3c-b5e1-c84022568cde",
   "metadata": {},
   "outputs": [],
   "source": [
    "fre_pdV_1px.plot()"
   ]
  },
  {
   "cell_type": "markdown",
   "id": "a01bb338-f80b-4a36-9f35-25158a8e66d0",
   "metadata": {},
   "source": [
    "This is the time serie of FRE from only one pixel. However at this stage we don't know if the fire was only included in one GFAS pixel or was larger. So we need to investigate if we have cluster of fire pixel at each time step."
   ]
  },
  {
   "cell_type": "code",
   "execution_count": null,
   "id": "30eb62ce-5b66-4dd2-babc-2cad45b7d5cc",
   "metadata": {},
   "outputs": [],
   "source": [
    "#compute timely mask so that we are not only considering one pixel but the fire cluster if it exists\n",
    "s = [[1,1,1],\n",
    "     [1,1,1],\n",
    "     [1,1,1]]\n",
    "print('fire size in pixels:')\n",
    "mask3d = np.zeros(fre_pdV.shape)\n",
    "for it in range(fre_pdV.time.shape[0]):\n",
    "    fre_pdvt = fre_pdV.data[it]\n",
    "    labeled, num_features = scipy.ndimage.label(np.where(fre_pdvt>0,1,0), structure=s)    \n",
    "    label = labeled[j_lat,i_lon]\n",
    "    if label != 0:\n",
    "        mask3d[it,:,:] = np.where(labeled==label, 1, 0) \n",
    "    print(fre_pdV.time[it].values, np.where(mask3d[it]==1)[0].shape[0])\n"
   ]
  },
  {
   "cell_type": "code",
   "execution_count": null,
   "id": "c4b7e0de-df5a-453d-9a22-68f71256a238",
   "metadata": {},
   "outputs": [],
   "source": [
    "#get array of conversion factor from burninLC_hd\n",
    "#latitudeLC = landCover.variables['lat'][:]\n",
    "#longitudeLC = landCover.variables['lon'][:]\n",
    "\n",
    "CF = np.zeros_like(mask3d)\n",
    "dtype = 'U10'   # Data type, where 'U10' means Unicode string with max length 10\n",
    "fuelType = np.full(mask3d.shape, '', dtype=dtype)\n",
    "LC = np.full(mask3d.shape, '', dtype=dtype)\n",
    "\n",
    "#for it in range(len(idx_timepdv[0])):\n",
    "for it in range(fre_pdV.time.shape[0]):\n",
    "    print(fre_pdV.time[it].values)\n",
    "    for i,j in zip(*np.where(mask3d[it]==1)):\n",
    "        latpx = fre_pdV.latitude[i]  #mask3d is build on fre_pdV (see box above)\n",
    "        lonpx = fre_pdV.longitude[j]\n",
    "        #idx_latLC = 5*np.abs(latitudeLC[::-1] - latpx).argmin()  # x5 because of the zoom\n",
    "        #idx_lonLC = 5*np.abs(longitudeLC - lonpx).argmin()\n",
    "        print(latpx.values,lonpx.values, burninLC_hd_pdV.sel(latitude=latpx.values, longitude=lonpx.values, method='nearest').values)\n",
    "        CF[it,i,j] = LCidx.loc[int(burninLC_hd_pdV.sel(latitude=latpx, longitude=lonpx, method='nearest'))]['conv_factor'] # kg/MJ\n",
    "        LC[it,i,j] = LCidx.loc[int(burninLC_hd_pdV.sel(latitude=latpx, longitude=lonpx, method='nearest'))]['land_cover']\n",
    "        fuelType[it,i,j] = LCidx.loc[int(burninLC_hd_pdV.sel(latitude=latpx, longitude=lonpx, method='nearest'))]['fuel_type'].strip()\n",
    "\n",
    "        print( 'burning Land cover is : {:s}, \"{:s}\"'.format( LC[it,i,j], fuelType[it,i,j] ) )\n",
    "        print( 'conversion factor is : {:2f}'.format( CF[it,i,j] ) )\n",
    "    print('----')\n",
    "#convert to da\n",
    "CF = xr.DataArray( CF, dims=fre_pdV.dims, \n",
    "                   coords={\"time\":fre_pdV['time'], \"latitude\": fre_pdV['latitude'], \"longitude\": fre_pdV['longitude']},\n",
    "                   name=\"conversion Factor\")\n",
    "                  "
   ]
  },
  {
   "cell_type": "markdown",
   "id": "60f58166-3a67-4d28-bc9a-4bcb7240831b",
   "metadata": {},
   "source": [
    "get pixel size using [haversine formula](https://en.wikipedia.org/wiki/Haversine_formula)"
   ]
  },
  {
   "cell_type": "code",
   "execution_count": null,
   "id": "103a808e-3c57-46e5-adfd-79d353d29172",
   "metadata": {},
   "outputs": [],
   "source": [
    "#compute pixelArea for the points where we have fre value\n",
    "#pixel aera is in km2\n",
    "importlib.reload(haversine2Da)\n",
    "pixelArea = haversine2Da.compute_pixel_area(fre_pdV, mask=np.where(mask3d.sum(axis=0)>0,1,0))"
   ]
  },
  {
   "cell_type": "code",
   "execution_count": null,
   "id": "61df63dc-f9d8-4c79-8c0b-678505594eb7",
   "metadata": {},
   "outputs": [],
   "source": [
    "#compute map of CO2 emission factor\n",
    "EF_CO2 = np.zeros_like(CF)\n",
    "\n",
    "for it in range(fre_pdV.time.shape[0]):\n",
    "    for i,j in zip(*np.where(mask3d[it]==1)):\n",
    "        EF_CO2[it,i,j] = data_EF[data_EF['Species']=='CO2'][fuelType[it,i,j]].iloc[0] \n",
    "#convert to da\n",
    "EF_CO2 = xr.DataArray( EF_CO2, dims=fre_pdV.dims, \n",
    "                       coords={\"time\":fre_pdV['time'], \"latitude\": fre_pdV['latitude'], \"longitude\": fre_pdV['longitude']},\n",
    "                       name=\"Emission Factor\")    "
   ]
  },
  {
   "cell_type": "code",
   "execution_count": null,
   "id": "a639ad7f-0afc-4b13-9ac1-12a4d2a6d5d0",
   "metadata": {},
   "outputs": [],
   "source": [
    "FRE_pdv = (fre_pdV.where((pixelArea>0)&(fre_pdV>0)) * pixelArea.where((pixelArea>0)&(fre_pdV>0))).sum()   * 1.e-6# MJ"
   ]
  },
  {
   "cell_type": "code",
   "execution_count": null,
   "id": "698035da-5a80-4951-8a9d-60efd3067a67",
   "metadata": {},
   "outputs": [],
   "source": [
    "DM_pdv = ( fre_pdV.where((pixelArea>0)&(fre_pdV>0)) * 1.e-6 * \n",
    "           CF.where((pixelArea>0)&(fre_pdV>0)) * \n",
    "           pixelArea.where((pixelArea>0)&(fre_pdV>0)) \n",
    "         ).sum() * 1.e-3 # ton of Dry Mass burn"
   ]
  },
  {
   "cell_type": "code",
   "execution_count": null,
   "id": "4ea2f951-2555-485a-854a-ca1fb031ca98",
   "metadata": {},
   "outputs": [],
   "source": [
    "E_CO2_pdv = ( fre_pdV.where((pixelArea>0)&(fre_pdV>0)) * 1.e-6 *\n",
    "              CF.where((pixelArea>0)&(fre_pdV>0)) * \n",
    "              EF_CO2.where((pixelArea>0)&(fre_pdV>0))  * \n",
    "              pixelArea.where((pixelArea>0)&(fre_pdV>0)) \n",
    "            ).sum()            * 1.e-6# ton"
   ]
  },
  {
   "cell_type": "code",
   "execution_count": null,
   "id": "5c1e4b53-c4cd-433f-8b32-da525207152c",
   "metadata": {},
   "outputs": [],
   "source": [
    "print('total FRE   = {:.3e} MJ'.format(FRE_pdv))\n",
    "print('total DM    = {:.3f} ton'.format(DM_pdv))\n",
    "print('total E_CO2 = {:.3f} ton'.format(E_CO2_pdv))\n"
   ]
  },
  {
   "cell_type": "code",
   "execution_count": null,
   "id": "b86f2318-7a4c-4f93-bcb5-2252844209af",
   "metadata": {},
   "outputs": [],
   "source": [
    "#For Validation\n",
    "###############\n",
    "#load CO2 emission as directly compuyted in GFAS\n",
    "# another file is present in the same directory where more than the FRP is available\n",
    "gfas = xr.open_dataset(directory+'GFAS-FRP-05to11-2023_gas_FRP_hbltop.nc')\n",
    "# this file does not need the time correction \n",
    "\n",
    "timejulybeg = datetime.datetime(2022,7,16)\n",
    "timejulyend = datetime.datetime(2022,7,20)\n",
    "\n",
    "gfas_pdV = gfas.sel(time=slice(timejulybeg,timejulyend))\n",
    "gfas_pdV = gfas_pdV.sel(latitude=slice(bbox_cat.bounds[3],bbox_cat.bounds[1]), longitude=slice(bbox_cat.bounds[0],bbox_cat.bounds[2]) )\n",
    "gfas_pdV\n"
   ]
  },
  {
   "cell_type": "markdown",
   "id": "08157e6e-0e72-4d47-8d17-f901cf3599de",
   "metadata": {},
   "source": [
    "gfas_pdV as the same coordinate and same dimension (5,120,100) as frp_pdV, therefore we can apply the same mask"
   ]
  },
  {
   "cell_type": "code",
   "execution_count": null,
   "id": "9e031673-0a87-4442-a887-d7ec7ba5f048",
   "metadata": {},
   "outputs": [],
   "source": [
    "pixelArea_gfas_pdV = haversine2Da.compute_pixel_area(gfas_pdV.frpfire, mask=np.where(mask3d.sum(axis=0)>0,1,0))\n"
   ]
  },
  {
   "cell_type": "code",
   "execution_count": null,
   "id": "4055f842-1243-4261-a249-7f2fc5601acc",
   "metadata": {},
   "outputs": [],
   "source": [
    "FRE_val = (gfas_pdV['frpfire'].where((pixelArea_gfas_pdV>0)&(gfas_pdV['frpfire']>0)) *pixelArea_gfas_pdV.where((pixelArea_gfas_pdV>0)&(gfas_pdV['frpfire']>0)) * 24 *3600).sum() * 1.e-6 # MJ\n",
    "E_CO2_val = (gfas_pdV['co2fire'].where((pixelArea_gfas_pdV>0)&(gfas_pdV['frpfire']>0)) *pixelArea_gfas_pdV.where((pixelArea_gfas_pdV>0)&(gfas_pdV['frpfire']>0)) * 24 *3600).sum() * 1.e-3 # Ton"
   ]
  },
  {
   "cell_type": "code",
   "execution_count": null,
   "id": "69458517-f4e1-4882-ab5d-158857f8bfe2",
   "metadata": {},
   "outputs": [],
   "source": [
    "print('total FRE   Val = {:.3e} MJ'.format(FRE_val))\n",
    "print('total E_CO2 Val = {:.3f} ton'.format(E_CO2_val))"
   ]
  },
  {
   "cell_type": "markdown",
   "id": "622a36c9-0fc8-4b8a-a13a-fe93aa679588",
   "metadata": {},
   "source": [
    "Difference in CO2 emission is probably due to update Emission Factor and/or land cover map. We use here the ones from 2012."
   ]
  },
  {
   "cell_type": "markdown",
   "id": "93fe851c-c516-4128-b96d-a7b96f59eb19",
   "metadata": {},
   "source": [
    "**Question>>** Using the code above can you estimate CO emission?"
   ]
  },
  {
   "cell_type": "markdown",
   "id": "f279e056-0d0b-437e-a268-8ba37151ff23",
   "metadata": {},
   "source": [
    "**Answer>>**"
   ]
  },
  {
   "cell_type": "code",
   "execution_count": null,
   "id": "73ec0952-12ca-4d4f-90c8-f5dc5e365dff",
   "metadata": {},
   "outputs": [],
   "source": [
    "#compute map of CO emission factor using the first calculation based on EF \n",
    "EF_CO = np.zeros_like(CF)\n",
    "\n",
    "for it in range(fre_pdV.time.shape[0]):\n",
    "    for i,j in zip(*np.where(mask3d[it]==1)):\n",
    "        EF_CO[it,i,j] = data_EF[data_EF['Species']=='CO'][fuelType[it,i,j]].iloc[0] \n",
    "#convert to da\n",
    "EF_CO = xr.DataArray( EF_CO, dims=fre_pdV.dims, \n",
    "                       coords={\"time\":fre_pdV['time'], \"latitude\": fre_pdV['latitude'], \"longitude\": fre_pdV['longitude']},\n",
    "                       name=\"Emission Factor\") \n"
   ]
  },
  {
   "cell_type": "code",
   "execution_count": null,
   "id": "6ae284cf-7d1c-4746-a780-5463e9bb98a2",
   "metadata": {},
   "outputs": [],
   "source": [
    "E_CO_pdv = ( fre_pdV.where((pixelArea>0)&(fre_pdV>0)) * 1.e-6 *\n",
    "              CF.where((pixelArea>0)&(fre_pdV>0)) * \n",
    "              EF_CO.where((pixelArea>0)&(fre_pdV>0))  * \n",
    "              pixelArea.where((pixelArea>0)&(fre_pdV>0)) \n",
    "            ).sum()            * 1.e-6# ton\n"
   ]
  },
  {
   "cell_type": "code",
   "execution_count": null,
   "id": "ad932b64-2075-4106-8f1e-b61b5e1643ad",
   "metadata": {},
   "outputs": [],
   "source": [
    "print('total E_CO = {:.3f} ton'.format(E_CO_pdv))"
   ]
  },
  {
   "cell_type": "markdown",
   "id": "a625e0d7-20ce-458f-9972-8a00a281f944",
   "metadata": {},
   "source": [
    "## 3. To deliver"
   ]
  },
  {
   "cell_type": "markdown",
   "id": "ea46cf18-4131-42e7-a91f-1edcd6da66d6",
   "metadata": {},
   "source": [
    "### 3.1 plot FRE map for the time period Octobre 2022 to Mars 2023."
   ]
  },
  {
   "cell_type": "markdown",
   "id": "b70f3dce-4125-478f-8bee-8f1e818b19fd",
   "metadata": {},
   "source": [
    "**Question>>:** Plot for the two time periods Avril 2022 to Septembre 2022 and Octobre 2022 to Mars 2023 the global map of FRE. Iterpret thoses plots using your knwoledge  on fire seasons.    \n",
    "There is available in the data diretory the file `GFAS-FRP-2022-10_2023-03.nc` that you can you use for this task. As the other file, it comes from the [CAMS server](https://ads.atmosphere.copernicus.eu/datasets/cams-global-fire-emissions-gfas?tab=overview)."
   ]
  },
  {
   "cell_type": "markdown",
   "id": "ff7189b7-17a9-45a7-9290-aa51056c5b28",
   "metadata": {},
   "source": [
    "**Answer>>:** "
   ]
  },
  {
   "cell_type": "markdown",
   "id": "97cf9203-a0b4-4398-a2b1-6a3ecfb102b7",
   "metadata": {},
   "source": []
  },
  {
   "cell_type": "markdown",
   "id": "650950ac-0ef6-4175-b366-0941831692cb",
   "metadata": {},
   "source": [
    "### 3.2 Compute emission from an area"
   ]
  },
  {
   "cell_type": "markdown",
   "id": "a813cd48-09c2-4d80-90a5-77394a87f0b3",
   "metadata": {},
   "source": [
    "**Question>>:** Can you estimate the contribution of the fire of el pont de Vilomara to the total burn mass of cataluna over the time period may to nov 2022? A shape file of the province boundaries for all world countries is available at `FBM_unit05/Emission/GFAS/earth-admin1.gpkg`"
   ]
  },
  {
   "cell_type": "markdown",
   "id": "90113958-91d1-4db3-a8dd-01bea6af959c",
   "metadata": {},
   "source": [
    "cataluna border can be extracted following:"
   ]
  },
  {
   "cell_type": "code",
   "execution_count": null,
   "id": "9848b21c-96a3-45a1-bfa3-74dd7082799b",
   "metadata": {},
   "outputs": [],
   "source": [
    "cat = gpd.read_file(directory+'earth-admin1.gpkg')\n",
    "cat = cat[cat['region']=='Cataluña'].dissolve() # to merge all provinces of cataluna"
   ]
  },
  {
   "cell_type": "markdown",
   "id": "cd457d88-08eb-49d2-8903-0eee678645ca",
   "metadata": {},
   "source": [
    "**tips**: for raster mask computation from vector data see example [here](https://github.com/3dfirelab/python-intro-course/blob/master/05c-GIS-vector2raster.ipynb))"
   ]
  },
  {
   "cell_type": "markdown",
   "id": "bdfa5f0a-c2f4-4ba7-bf72-eab852a63473",
   "metadata": {},
   "source": [
    "**Answer>>:**"
   ]
  },
  {
   "cell_type": "code",
   "execution_count": null,
   "id": "373cc65e-543a-4708-9104-91481a0db102",
   "metadata": {},
   "outputs": [],
   "source": [
    "\n"
   ]
  }
 ],
 "metadata": {
  "kernelspec": {
   "display_name": "Python (imfse)",
   "language": "python",
   "name": "imfse"
  },
  "language_info": {
   "codemirror_mode": {
    "name": "ipython",
    "version": 3
   },
   "file_extension": ".py",
   "mimetype": "text/x-python",
   "name": "python",
   "nbconvert_exporter": "python",
   "pygments_lexer": "ipython3",
   "version": "3.11.2"
  }
 },
 "nbformat": 4,
 "nbformat_minor": 5
}
